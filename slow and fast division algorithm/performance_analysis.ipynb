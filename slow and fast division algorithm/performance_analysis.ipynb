{
 "cells": [
  {
   "cell_type": "code",
   "execution_count": null,
   "metadata": {},
   "outputs": [],
   "source": [
    "# Performance Analysis of Division Algorithms\n",
    "\n",
    "This notebook analyzes the performance of different division algorithms implemented in this project.\n",
    "\n",
    "```python\n",
    "import time\n",
    "from src.slow.restoring_division import restoring_division\n",
    "from src.slow.non_restoring_division import non_restoring_division\n",
    "from src.fast.srt_division import srt_division\n",
    "from src.fast.newton_raphson_division import newton_raphson_division\n",
    "\n",
    "def measure_time(func, *args):\n",
    "    start = time.time()\n",
    "    result = func(*args)\n",
    "    end = time.time()\n",
    "    return result, end - start\n",
    "\n",
    "algorithms = {\n",
    "    \"Restoring Division\": restoring_division,\n",
    "    \"Non-Restoring Division\": non_restoring_division,\n",
    "    \"SRT Division\": srt_division,\n",
    "    \"Newton-Raphson Division\": newton_raphson_division,\n",
    "}\n",
    "\n",
    "dividend = 123456\n",
    "divisor = 789\n",
    "\n",
    "results = {}\n",
    "for name, algorithm in algorithms.items():\n",
    "    result, duration = measure_time(algorithm, dividend, divisor)\n",
    "    results[name] = {\"Quotient\": result[0], \"Remainder\": result[1], \"Time\": duration}\n",
    "\n",
    "results\n"
   ]
  }
 ],
 "metadata": {
  "language_info": {
   "name": "python"
  }
 },
 "nbformat": 4,
 "nbformat_minor": 2
}
